{
  "cells": [
    {
      "cell_type": "markdown",
      "metadata": {
        "id": "view-in-github",
        "colab_type": "text"
      },
      "source": [
        "<a href=\"https://colab.research.google.com/github/sdahal51/ModernBERT/blob/main/Fine_Tuning_DeepSeek_LLM_Adapting_Open_Source_AI_for_Your%C2%A0Needs.ipynb\" target=\"_parent\"><img src=\"https://colab.research.google.com/assets/colab-badge.svg\" alt=\"Open In Colab\"/></a>"
      ]
    },
    {
      "cell_type": "markdown",
      "metadata": {
        "id": "o0JPwiIwSsei"
      },
      "source": [
        "# 1. Check GPU Availability\n",
        "Make sure Google Colab is using a GPU."
      ]
    },
    {
      "cell_type": "code",
      "execution_count": null,
      "metadata": {
        "id": "SyhP7fQzP197"
      },
      "outputs": [],
      "source": [
        "import torch\n",
        "torch.cuda.is_available()\n"
      ]
    },
    {
      "cell_type": "markdown",
      "metadata": {
        "id": "7-bkCWFIUQff"
      },
      "source": [
        "If this returns True, you're good to go! If not, go to Runtime > Change runtime type > GPU."
      ]
    },
    {
      "cell_type": "markdown",
      "metadata": {
        "id": "k8IQMP-5Ua7G"
      },
      "source": [
        "# Install Required Libraries\n",
        "Run this command to install transformers, torch, and accelerate."
      ]
    },
    {
      "cell_type": "code",
      "execution_count": null,
      "metadata": {
        "id": "VzfN1JWlUo2f"
      },
      "outputs": [],
      "source": [
        "!pip install -U torch transformers datasets accelerate peft bitsandbytes"
      ]
    },
    {
      "cell_type": "markdown",
      "metadata": {
        "id": "patsmsOtUsG5"
      },
      "source": [
        "# 3. Load DeepSeek LLM from Hugging Face\n",
        "\n",
        "Load the model with LoRA (Low-Rank Adaptation) for efficient fine-tuning."
      ]
    },
    {
      "cell_type": "code",
      "execution_count": null,
      "metadata": {
        "id": "QGyeL68aUqsO"
      },
      "outputs": [],
      "source": [
        "from transformers import AutoModelForCausalLM, AutoTokenizer, BitsAndBytesConfig\n",
        "from peft import LoraConfig, get_peft_model\n",
        "\n",
        "model_name = \"deepseek-ai/deepseek-llm-7b-base\"\n",
        "\n",
        "# Configure 4-bit quantization\n",
        "bnb_config = BitsAndBytesConfig(\n",
        "    load_in_4bit=True,\n",
        "    bnb_4bit_compute_dtype=torch.float16  # Use float16 for faster computation\n",
        ")\n",
        "\n",
        "# Load model and tokenizer\n",
        "tokenizer = AutoTokenizer.from_pretrained(model_name)\n",
        "model = AutoModelForCausalLM.from_pretrained(\n",
        "    model_name,\n",
        "    quantization_config=bnb_config,\n",
        "    device_map=\"auto\"\n",
        ")\n",
        "\n",
        "\n",
        "# Apply LoRA for memory-efficient fine-tuning\n",
        "lora_config = LoraConfig(\n",
        "    r=8,  # Low-rank adaptation size\n",
        "    lora_alpha=32,\n",
        "    target_modules=[\"q_proj\", \"v_proj\"],  # Apply LoRA to attention layers\n",
        "    lora_dropout=0.05,\n",
        "    bias=\"none\"\n",
        ")\n",
        "model = get_peft_model(model, lora_config)\n",
        "model.print_trainable_parameters()\n",
        "\n",
        "print(\"✅ DeepSeek LLM Loaded with LoRA and 4-bit Precision!\")"
      ]
    },
    {
      "cell_type": "markdown",
      "metadata": {
        "id": "dFyafK0kU7ib"
      },
      "source": [
        "# 4. Load and Preprocess the IMDB Dataset\n",
        "\n",
        "Download the IMDB dataset and prepare it for causal language modeling.\n",
        "\n"
      ]
    },
    {
      "cell_type": "code",
      "execution_count": null,
      "metadata": {
        "id": "RWlm_VEHYfLy"
      },
      "outputs": [],
      "source": [
        "from datasets import load_dataset\n",
        "\n",
        "# Load IMDB dataset\n",
        "dataset = load_dataset(\"imdb\")\n",
        "\n",
        "# Display dataset structure and a few samples\n",
        "print(\"Dataset Structure:\")\n",
        "print(dataset)\n",
        "\n",
        "print(\"Sample Data:\")\n",
        "print(dataset[\"train\"][0])\n",
        "print(dataset[\"train\"][1])"
      ]
    },
    {
      "cell_type": "markdown",
      "metadata": {
        "id": "C1ySOw_LOi3z"
      },
      "source": [
        "### Tokenize Dataset"
      ]
    },
    {
      "cell_type": "code",
      "execution_count": null,
      "metadata": {
        "id": "TAoXlDkHOgEZ"
      },
      "outputs": [],
      "source": [
        "def tokenize_function(examples):\n",
        "    inputs = tokenizer(\n",
        "        examples[\"text\"],\n",
        "        truncation=True,\n",
        "        padding=\"max_length\",\n",
        "        max_length=512\n",
        "    )\n",
        "    inputs[\"labels\"] = inputs[\"input_ids\"].copy()  # Use input_ids as labels for causal LM\n",
        "    return inputs\n",
        "\n",
        "tokenized_datasets = dataset.map(tokenize_function, batched=True)\n",
        "\n",
        "# Verify tokenized sample\n",
        "print(\"Tokenized Sample with Labels:\")\n",
        "print(tokenized_datasets[\"train\"][0])"
      ]
    },
    {
      "cell_type": "markdown",
      "metadata": {
        "id": "ckvxafRmahNM"
      },
      "source": [
        "# 5. Set Training Parameterss"
      ]
    },
    {
      "cell_type": "code",
      "source": [
        "import os\n",
        "os.environ[\"WANDB_DISABLED\"] = \"true\"\n",
        "\n",
        "from transformers import TrainingArguments\n",
        "\n",
        "# Training arguments\n",
        "training_args = TrainingArguments(\n",
        "    output_dir=\"./results\",\n",
        "    evaluation_strategy=\"epoch\",\n",
        "    learning_rate=3e-4,\n",
        "    per_device_train_batch_size=1,\n",
        "    gradient_accumulation_steps=8,\n",
        "    num_train_epochs=1,\n",
        "    weight_decay=0.01,\n",
        "    logging_dir=\"./logs\",\n",
        "    fp16=True,\n",
        ")\n",
        "\n",
        "print(\"✅ WandB Disabled!\")"
      ],
      "metadata": {
        "id": "p54S11TvWV-m"
      },
      "execution_count": null,
      "outputs": []
    },
    {
      "cell_type": "markdown",
      "source": [
        "# Get sample Data\n",
        "\n",
        "To speed up the training"
      ],
      "metadata": {
        "id": "wdBeVH6RxbNx"
      }
    },
    {
      "cell_type": "code",
      "source": [
        "small_train_dataset = tokenized_datasets[\"train\"].shuffle(seed=42).select(range(500))\n",
        "small_test_dataset = tokenized_datasets[\"test\"].shuffle(seed=42).select(range(100))"
      ],
      "metadata": {
        "id": "PusbI7n1Yuwk"
      },
      "execution_count": null,
      "outputs": []
    },
    {
      "cell_type": "markdown",
      "source": [
        "# 5. Initialize Trainer and Train\n",
        "\n",
        "Set up the Trainer and start fine-tuning."
      ],
      "metadata": {
        "id": "lkilRQ0_y1D3"
      }
    },
    {
      "cell_type": "code",
      "source": [
        "from transformers import Trainer\n",
        "\n",
        "trainer = Trainer(\n",
        "    model=model,\n",
        "    args=training_args,\n",
        "    train_dataset=small_train_dataset.remove_columns([\"text\"]),  # Remove raw text column\n",
        "    eval_dataset=small_test_dataset.remove_columns([\"text\"]),\n",
        ")\n",
        "\n",
        "print(\"🚀 Trainer Initialized!\")\n"
      ],
      "metadata": {
        "id": "CDtR3n-UWeKA"
      },
      "execution_count": null,
      "outputs": []
    },
    {
      "cell_type": "code",
      "source": [
        "torch.cuda.empty_cache()\n",
        "print(\"✅ Cleared CUDA Cache\")\n"
      ],
      "metadata": {
        "id": "s8_qbdHbWird"
      },
      "execution_count": null,
      "outputs": []
    },
    {
      "cell_type": "markdown",
      "metadata": {
        "id": "UpmyPimJazlO"
      },
      "source": [
        "# 6. Fine-Tune DeepSeek LLM"
      ]
    },
    {
      "cell_type": "code",
      "source": [
        "print(\"🚀 Starting Fine-Tuning...\")\n",
        "trainer.train()"
      ],
      "metadata": {
        "id": "fJTFQYsSWiot"
      },
      "execution_count": null,
      "outputs": []
    },
    {
      "cell_type": "markdown",
      "metadata": {
        "id": "1fUS4IfjPb6r"
      },
      "source": [
        "#7. Run Predictions with the Fine-Tuned Model\n",
        "Now that we have fine-tuned DeepSeek LLM, let's generate predictions for new text inputs.\n",
        "\n"
      ]
    },
    {
      "cell_type": "code",
      "source": [
        "def generate_prediction(review_text):\n",
        "    inputs = tokenizer(review_text, return_tensors=\"pt\").to(\"cuda\")\n",
        "    outputs = model.generate(**inputs, max_length=100, pad_token_id=tokenizer.eos_token_id)\n",
        "    return tokenizer.decode(outputs[0], skip_special_tokens=True)\n",
        "\n",
        "# Example reviews\n",
        "reviews = [\n",
        "    \"The movie was absolutely fantastic! I loved the cinematography and the acting was superb.\",\n",
        "    \"This was the worst movie I've ever seen. The plot made no sense and the dialogue was terrible.\",\n",
        "    \"It was an okay movie. Some parts were really good, but overall it was just average.\"\n",
        "]\n",
        "\n",
        "# Run predictions\n",
        "for review in reviews:\n",
        "    print(f\"Review: {review}\")\n",
        "    print(f\"Predicted Sentiment: {generate_prediction(review)}\")\n",
        "    print(\"-\" * 80)\n"
      ],
      "metadata": {
        "id": "i4R4aZdPWifd"
      },
      "execution_count": null,
      "outputs": []
    },
    {
      "cell_type": "markdown",
      "metadata": {
        "id": "XkhwINvcbot4"
      },
      "source": [
        "# 8. Reference\n",
        "\n",
        "* [DeepSeek LLM](https://github.com/deepseek-ai/DeepSeek-LLM)\n",
        "* [DeepSeek](https://www.deepseek.com/)\n",
        "* [DeepSeek LLM Paper on arXiv](https://arxiv.org/abs/2401.02954)\n"
      ]
    },
    {
      "cell_type": "markdown",
      "metadata": {
        "id": "Z5XLIaq0bolJ"
      },
      "source": [
        "\n",
        "\n",
        "Copyright 2025 Abhishek Gargha Maheshwarappa\n",
        "\n",
        "Permission is hereby granted, free of charge, to any person obtaining a copy of this software and associated documentation files (the \"Software\"), to deal in the Software without restriction, including without limitation the rights to use, copy, modify, merge, publish, distribute, sublicense, and/or sell copies of the Software, and to permit persons to whom the Software is furnished to do so, subject to the following conditions:\n",
        "\n",
        "The above copyright notice and this permission notice shall be included in all copies or substantial portions of the Software.\n",
        "\n",
        "THE SOFTWARE IS PROVIDED \"AS IS\", WITHOUT WARRANTY OF ANY KIND, EXPRESS OR IMPLIED, INCLUDING BUT NOT LIMITED TO THE WARRANTIES OF MERCHANTABILITY, FITNESS FOR A PARTICULAR PURPOSE AND NONINFRINGEMENT. IN NO EVENT SHALL THE AUTHORS OR COPYRIGHT HOLDERS BE LIABLE FOR ANY CLAIM, DAMAGES OR OTHER LIABILITY, WHETHER IN AN ACTION OF CONTRACT, TORT OR OTHERWISE, ARISING FROM, OUT OF OR IN CONNECTION WITH THE SOFTWARE OR THE USE OR OTHER DEALINGS IN THE SOFTWARE."
      ]
    }
  ],
  "metadata": {
    "accelerator": "TPU",
    "colab": {
      "gpuType": "V28",
      "provenance": [],
      "include_colab_link": true
    },
    "kernelspec": {
      "display_name": "Python 3",
      "name": "python3"
    },
    "language_info": {
      "name": "python"
    }
  },
  "nbformat": 4,
  "nbformat_minor": 0
}